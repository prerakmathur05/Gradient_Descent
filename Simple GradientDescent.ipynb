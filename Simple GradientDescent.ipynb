{
 "cells": [
  {
   "cell_type": "code",
   "execution_count": 27,
   "metadata": {},
   "outputs": [
    {
     "name": "stdout",
     "output_type": "stream",
     "text": [
      "cost after  iteration 0 0.6931471810530008\n",
      "cost after  iteration 1 0.6458273160705654\n",
      "cost after  iteration 2 0.6009237057285932\n",
      "cost after  iteration 3 0.5584152176384671\n",
      "cost after  iteration 4 0.5182694786204912\n",
      "cost after  iteration 5 0.48044350336155656\n",
      "cost after  iteration 6 0.44488450271957236\n",
      "cost after  iteration 7 0.41153084010404384\n",
      "cost after  iteration 8 0.3803130997538963\n",
      "cost after  iteration 9 0.3511552301665677\n",
      "cost after  iteration 10 0.3239757210541144\n",
      "cost after  iteration 11 0.29868876532694727\n",
      "cost after  iteration 12 0.27520532373894013\n",
      "cost after  iteration 13 0.25343388188348664\n",
      "cost after  iteration 14 0.23328021956093697\n",
      "cost after  iteration 15 0.2146438176699771\n",
      "cost after  iteration 16 0.19740246074914172\n",
      "cost after  iteration 17 0.18135501592193062\n",
      "cost after  iteration 18 0.1660168275894526\n",
      "cost after  iteration 19 0.14991295371016203\n"
     ]
    },
    {
     "data": {
      "text/plain": [
       "[<matplotlib.lines.Line2D at 0x261b897af48>]"
      ]
     },
     "execution_count": 27,
     "metadata": {},
     "output_type": "execute_result"
    },
    {
     "data": {
      "image/png": "[encoded data removed]",
      "text/plain": [
       "<Figure size 432x288 with 1 Axes>"
      ]
     },
     "metadata": {
      "needs_background": "light"
     },
     "output_type": "display_data"
    }
   ],
   "source": [
    "import numpy as np\n",
    "import matplotlib.pyplot as plt\n",
    "X=np.random.randn(10,50)\n",
    "y= np.random.randn(1,50)<0.8\n",
    "Y= np.multiply(np.ones((1,50)),y)\n",
    "layer_dims=[X.shape[0],5,4,2,1]\n",
    "L=len(layer_dims)\n",
    "\n",
    "\n",
    "def initialize_parameters(layer_dims):\n",
    "    L=len(layer_dims)\n",
    "    parameters={}\n",
    "    for l in range(1,L):\n",
    "        parameters[\"W\"+str(l)]=np.random.randn(layer_dims[l],layer_dims[l-1])*0.01\n",
    "        parameters[\"b\"+str(l)]=np.zeros((layer_dims[l],1))\n",
    "    return parameters\n",
    "\n",
    "\n",
    "def linear_forward(X, parameters,layer_dims):\n",
    "    L=len(layer_dims)\n",
    "    caches= []\n",
    "    Z={}\n",
    "    A={}\n",
    "    A[\"A0\"] = X\n",
    "    for l in range(L-1):\n",
    "        Z[\"Z\"+str(l+1)]=np.dot(parameters[\"W\"+str(l+1)],A[\"A\"+str(l)]) + parameters[\"b\"+str(l+1)]\n",
    "        A[\"A\"+str(l+1)]= np.maximum(Z[\"Z\"+str(l+1)],0)\n",
    "    Z[\"Z\"+str(L-1)]=np.dot(parameters[\"W\"+str(L-1)],A[\"A\"+str(L-2)]) + parameters[\"b\"+str(L-1)]\n",
    "    A[\"A\"+str(L-1)]= 1 / (1+np.exp(-Z[\"Z\"+str(L-1)]))\n",
    "    return A,Z\n",
    "\n",
    "\n",
    "def cost(a,Y):\n",
    "    m=Y.shape[1]\n",
    "    c=-1/m * np.sum(np.dot(Y,(np.log(a)).T)+np.dot((1-Y),(np.log(1-a)).T))\n",
    "    \n",
    "    return c\n",
    "\n",
    "\n",
    "def linear_backward(parameters,Y,A,Z):\n",
    "    grads={}\n",
    "    L=5\n",
    "    AL= A['A'+str(L-1)]\n",
    "    m=Y.shape[1]  \n",
    "    grads['Z'+str(L-1)]= 1/m * AL-Y\n",
    "    A['A0']=X    \n",
    "    for l in range(L-1,0,-1):\n",
    "        #print(l)\n",
    "        grads['W'+str(l)]= np.dot(grads['Z'+str(l)],A['A'+str(l-1)].T)\n",
    "        grads['b'+str(l)]=np.sum(grads['Z'+str(l)],axis = 0)\n",
    "        grads['Z'+str(l-1)]=np.multiply(np.dot(parameters['W'+str(l)].T,grads['Z'+str(l)] ), 1)\n",
    "    return grads\n",
    "\n",
    "    \n",
    "def update_parameters(parameters, grads):\n",
    "    for l in range(1,L): \n",
    "        parameters[\"W\"+str(l)] = parameters[\"W\"+str(l)] - 0.1 * grads['W'+str(l)]\n",
    "        parameters[\"b\"+str(l)] = parameters[\"b\"+str(l)] - 0.1 * grads['b'+str(l)]\n",
    "        \n",
    "    return parameters\n",
    "\n",
    "costs=[]\n",
    "parameters=initialize_parameters(layer_dims)\n",
    "for i in range(20):\n",
    "    \n",
    "    A,Z= linear_forward(X,parameters,layer_dims)\n",
    "    c=cost(A['A'+str(L-1)],Y)\n",
    "    costs.append(c)\n",
    "    print(f'cost after  iteration {i}', c)\n",
    "    grads=linear_backward(parameters,Y,A,Z)\n",
    "    parameters=update_parameters(parameters,grads)\n",
    "plt.plot(np.squeeze(costs))    \n"
   ]
  },
  {
   "cell_type": "code",
   "execution_count": 28,
   "metadata": {},
   "outputs": [
    {
     "ename": "NameError",
     "evalue": "name 'a' is not defined",
     "output_type": "error",
     "traceback": [
      "\u001b[1;31m---------------------------------------------------------------------------\u001b[0m",
      "\u001b[1;31mNameError\u001b[0m                                 Traceback (most recent call last)",
      "\u001b[1;32m<ipython-input-28-a1b08945c23c>\u001b[0m in \u001b[0;36m<module>\u001b[1;34m\u001b[0m\n\u001b[1;32m----> 1\u001b[1;33m \u001b[0mcost\u001b[0m\u001b[1;33m(\u001b[0m\u001b[0ma\u001b[0m\u001b[1;33m,\u001b[0m\u001b[0mY\u001b[0m\u001b[1;33m)\u001b[0m\u001b[1;33m\u001b[0m\u001b[1;33m\u001b[0m\u001b[0m\n\u001b[0m\u001b[0;32m      2\u001b[0m \u001b[0mA\u001b[0m\u001b[1;33m,\u001b[0m\u001b[0mZ\u001b[0m\u001b[1;33m=\u001b[0m\u001b[0mlinear_forward\u001b[0m\u001b[1;33m(\u001b[0m\u001b[0mX\u001b[0m\u001b[1;33m,\u001b[0m \u001b[0mparameters\u001b[0m\u001b[1;33m)\u001b[0m\u001b[1;33m\u001b[0m\u001b[1;33m\u001b[0m\u001b[0m\n\u001b[0;32m      3\u001b[0m \u001b[0mparameters\u001b[0m \u001b[1;33m=\u001b[0m \u001b[0minitialize_parameters\u001b[0m\u001b[1;33m(\u001b[0m\u001b[0mlayer_dims\u001b[0m\u001b[1;33m)\u001b[0m\u001b[1;33m\u001b[0m\u001b[1;33m\u001b[0m\u001b[0m\n\u001b[0;32m      4\u001b[0m \u001b[1;31m#print(parameters)\u001b[0m\u001b[1;33m\u001b[0m\u001b[1;33m\u001b[0m\u001b[1;33m\u001b[0m\u001b[0m\n\u001b[0;32m      5\u001b[0m \u001b[1;33m\u001b[0m\u001b[0m\n",
      "\u001b[1;31mNameError\u001b[0m: name 'a' is not defined"
     ]
    }
   ],
   "source": [
    "cost(a,Y)\n",
    "A,Z=linear_forward(X, parameters)\n",
    "parameters = initialize_parameters(layer_dims)\n",
    "#print(parameters)\n",
    "\n",
    "\n",
    "#print(Y)\n",
    "\n",
    "\n",
    "#print(\"a=\", a)\n"
   ]
  },
  {
   "cell_type": "code",
   "execution_count": 5,
   "metadata": {},
   "outputs": [
    {
     "name": "stdout",
     "output_type": "stream",
     "text": [
      "3\n",
      "2\n",
      "1\n",
      "0\n"
     ]
    }
   ],
   "source": [
    "for i in reversed(range(L-1)):\n",
    "    print(i)\n",
    "\n",
    "\n",
    "\n",
    "\n"
   ]
  },
  {
   "cell_type": "code",
   "execution_count": null,
   "metadata": {},
   "outputs": [],
   "source": [
    "update_parameters(parameters, d)\n"
   ]
  }
 ],
 "metadata": {
  "kernelspec": {
   "display_name": "Python 3",
   "language": "python",
   "name": "python3"
  },
  "language_info": {
   "codemirror_mode": {
    "name": "ipython",
    "version": 3
   },
   "file_extension": ".py",
   "mimetype": "text/x-python",
   "name": "python",
   "nbconvert_exporter": "python",
   "pygments_lexer": "ipython3",
   "version": "3.7.4"
  }
 },
 "nbformat": 4,
 "nbformat_minor": 2
}
